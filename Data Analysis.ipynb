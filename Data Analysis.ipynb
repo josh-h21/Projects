{
 "cells": [
  {
   "cell_type": "code",
   "execution_count": 617,
   "metadata": {},
   "outputs": [],
   "source": [
    "import fuzzywuzzy\n",
    "from fuzzywuzzy import process\n",
    "import numpy as np\n",
    "import pandas as pd\n",
    "from datetime import date\n"
   ]
  },
  {
   "attachments": {},
   "cell_type": "markdown",
   "metadata": {},
   "source": [
    "## Functions"
   ]
  },
  {
   "cell_type": "code",
   "execution_count": 618,
   "metadata": {},
   "outputs": [],
   "source": [
    "def get_datafile_csv(file):\n",
    "    '''get requested csv'''\n",
    "    while True:\n",
    "        try:\n",
    "            data = pd.read_csv(file,encoding_errors='ignore')\n",
    "            return data\n",
    "        except Exception as error:\n",
    "            print(error,\"\\t File not found. Please try another file.\")\n",
    "            break\n",
    "\n",
    "\n",
    "# convert to lower case & remove trailing white spaces\n",
    "def get_column(df,column):\n",
    "    '''return a list of unique strings in column in alphabetical order'''\n",
    "    while True:\n",
    "        try:\n",
    "            column = df[column].unique()\n",
    "            column.sort()\n",
    "            print(column)\n",
    "            return\n",
    "        except Exception as error:\n",
    "            print(error,\"\\t Column not found. Please try another column.\")\n",
    "            break\n",
    "    \n",
    "def lowercase_and_strip(df,column):\n",
    "    '''transform strings in column to lowercase and remove whitespaces'''\n",
    "    while True:\n",
    "        try:\n",
    "            df[column] = df[column].str.lower()\n",
    "            df[column] = df[column].str.strip()\n",
    "            print(\"Transformed to lowercase and stripped\")\n",
    "            get_column(df,column)\n",
    "            print(\"\\n\")\n",
    "            return\n",
    "        except Exception as error:\n",
    "            print(error,\"\\t Column not found. Please try another column.\")\n",
    "            break\n",
    "\n",
    "def replace_matches_in_column(df, column, string_to_match, min_ratio):\n",
    "    '''replace strings in column with closely matching string in same column'''\n",
    "    while True:\n",
    "        try:\n",
    "            strings = df[column].unique()     # get a list of unique strings\n",
    "            matches = fuzzywuzzy.process.extract(string_to_match, strings, \n",
    "                                                limit=10, scorer=fuzzywuzzy.fuzz.token_sort_ratio)  # get the top 10 closest matches to our input string\n",
    "            close_matches = [matches[0] for matches in matches if matches[1] >= min_ratio]          # only get matches with a ratio > 90           \n",
    "            print(f\"Close matches found: {close_matches} with min ratio=90\")\n",
    "            print(f\"Replacing close matches with '{string_to_match}'..\")\n",
    "            rows_with_matches = df[column].isin(close_matches)                                      # get the rows of all the close matches in our dataframe\n",
    "            df.loc[rows_with_matches, column] = string_to_match                                     # replace all rows with close matches with the input matches \n",
    "            print(\"Replacement complete\")\n",
    "            get_column(df,column)\n",
    "            return\n",
    "        except Exception as error:\n",
    "            print(error,\"\\t Column not found. Please try another column.\")\n",
    "            break\n",
    "\n",
    "def get_date_parsed(df,format):\n",
    "    while True:\n",
    "        try:\n",
    "            df['date_parsed'] = pd.to_datetime(df['Date'], format=format)\n",
    "            return\n",
    "        except Exception as error:\n",
    "            print(error)\n",
    "            break\n"
   ]
  },
  {
   "attachments": {},
   "cell_type": "markdown",
   "metadata": {},
   "source": [
    "### Task 1"
   ]
  },
  {
   "cell_type": "code",
   "execution_count": 619,
   "metadata": {},
   "outputs": [
    {
     "name": "stdout",
     "output_type": "stream",
     "text": [
      "['AJK' 'Balochistan' 'Baluchistan' 'Capital' 'FATA' 'Fata' 'KPK' 'Punjab'\n",
      " 'Sindh']\n"
     ]
    }
   ],
   "source": [
    "pakistan_data=get_datafile_csv('Pakistan.csv')\n",
    "get_column(pakistan_data,\"Province\")"
   ]
  },
  {
   "attachments": {},
   "cell_type": "markdown",
   "metadata": {},
   "source": [
    "Province column as some duplicate with different formats and spellings"
   ]
  },
  {
   "cell_type": "code",
   "execution_count": 620,
   "metadata": {},
   "outputs": [
    {
     "name": "stdout",
     "output_type": "stream",
     "text": [
      "Transformed to lowercase and stripped\n",
      "['ajk' 'balochistan' 'baluchistan' 'capital' 'fata' 'kpk' 'punjab' 'sindh']\n",
      "\n",
      "\n",
      "Close matches found: ['balochistan', 'baluchistan'] with min ratio=90\n",
      "Replacing close matches with 'balochistan'..\n",
      "Replacement complete\n",
      "['ajk' 'balochistan' 'capital' 'fata' 'kpk' 'punjab' 'sindh']\n"
     ]
    }
   ],
   "source": [
    "lowercase_and_strip(pakistan_data,\"Province\")\n",
    "replace_matches_in_column(pakistan_data,'Province',\"balochistan\",90)\n"
   ]
  },
  {
   "attachments": {},
   "cell_type": "markdown",
   "metadata": {},
   "source": [
    "All unique province names are corrected"
   ]
  },
  {
   "attachments": {},
   "cell_type": "markdown",
   "metadata": {},
   "source": [
    "### Task 2"
   ]
  },
  {
   "cell_type": "code",
   "execution_count": 621,
   "metadata": {},
   "outputs": [
    {
     "name": "stdout",
     "output_type": "stream",
     "text": [
      "['ATTOCK' 'Attock ' 'Bajaur Agency' 'Bannu' 'Bhakkar ' 'Buner' 'Chakwal '\n",
      " 'Chaman' 'Charsadda' 'Charsadda ' 'D. I Khan' 'D.G Khan' 'D.G Khan '\n",
      " 'D.I Khan' 'D.I Khan ' 'Dara Adam Khel' 'Dara Adam khel' 'Fateh Jang'\n",
      " 'Ghallanai, Mohmand Agency ' 'Gujrat' 'Hangu' 'Haripur' 'Hayatabad'\n",
      " 'Islamabad' 'Islamabad ' 'Jacobabad' 'KURRAM AGENCY' 'Karachi' 'Karachi '\n",
      " 'Karak' 'Khanewal' 'Khuzdar' 'Khyber Agency' 'Khyber Agency ' 'Kohat'\n",
      " 'Kohat ' 'Kuram Agency ' 'Lahore' 'Lahore ' 'Lakki Marwat' 'Lakki marwat'\n",
      " 'Lasbela' 'Lower Dir' 'MULTAN' 'Malakand ' 'Mansehra' 'Mardan'\n",
      " 'Mohmand Agency' 'Mohmand Agency ' 'Mohmand agency'\n",
      " 'Mosal Kor, Mohmand Agency' 'Multan' 'Muzaffarabad' 'North Waziristan'\n",
      " 'North waziristan' 'Nowshehra' 'Orakzai Agency' 'Peshawar' 'Peshawar '\n",
      " 'Pishin' 'Poonch' 'Quetta' 'Quetta ' 'Rawalpindi' 'Sargodha'\n",
      " 'Sehwan town' 'Shabqadar-Charsadda' 'Shangla ' 'Shikarpur' 'Sialkot'\n",
      " 'South Waziristan' 'South waziristan' 'Sudhanoti' 'Sukkur' 'Swabi '\n",
      " 'Swat' 'Swat ' 'Taftan' 'Tangi, Charsadda District' 'Tank' 'Tank '\n",
      " 'Taunsa' 'Tirah Valley' 'Totalai' 'Upper Dir' 'Wagah' 'Zhob' 'bannu'\n",
      " 'karachi' 'karachi ' 'lakki marwat' 'peshawar' 'swat']\n"
     ]
    }
   ],
   "source": [
    "get_column(pakistan_data,\"City\")"
   ]
  },
  {
   "cell_type": "code",
   "execution_count": 622,
   "metadata": {},
   "outputs": [
    {
     "name": "stdout",
     "output_type": "stream",
     "text": [
      "Transformed to lowercase and stripped\n",
      "['attock' 'bajaur agency' 'bannu' 'bhakkar' 'buner' 'chakwal' 'chaman'\n",
      " 'charsadda' 'd. i khan' 'd.g khan' 'd.i khan' 'dara adam khel'\n",
      " 'fateh jang' 'ghallanai, mohmand agency' 'gujrat' 'hangu' 'haripur'\n",
      " 'hayatabad' 'islamabad' 'jacobabad' 'karachi' 'karak' 'khanewal'\n",
      " 'khuzdar' 'khyber agency' 'kohat' 'kuram agency' 'kurram agency' 'lahore'\n",
      " 'lakki marwat' 'lasbela' 'lower dir' 'malakand' 'mansehra' 'mardan'\n",
      " 'mohmand agency' 'mosal kor, mohmand agency' 'multan' 'muzaffarabad'\n",
      " 'north waziristan' 'nowshehra' 'orakzai agency' 'peshawar' 'pishin'\n",
      " 'poonch' 'quetta' 'rawalpindi' 'sargodha' 'sehwan town'\n",
      " 'shabqadar-charsadda' 'shangla' 'shikarpur' 'sialkot' 'south waziristan'\n",
      " 'sudhanoti' 'sukkur' 'swabi' 'swat' 'taftan' 'tangi, charsadda district'\n",
      " 'tank' 'taunsa' 'tirah valley' 'totalai' 'upper dir' 'wagah' 'zhob']\n",
      "\n",
      "\n",
      "Close matches found: ['kurram agency', 'kuram agency'] with min ratio=90\n",
      "Replacing close matches with 'kurram agency'..\n",
      "Replacement complete\n",
      "['attock' 'bajaur agency' 'bannu' 'bhakkar' 'buner' 'chakwal' 'chaman'\n",
      " 'charsadda' 'd. i khan' 'd.g khan' 'd.i khan' 'dara adam khel'\n",
      " 'fateh jang' 'ghallanai, mohmand agency' 'gujrat' 'hangu' 'haripur'\n",
      " 'hayatabad' 'islamabad' 'jacobabad' 'karachi' 'karak' 'khanewal'\n",
      " 'khuzdar' 'khyber agency' 'kohat' 'kurram agency' 'lahore' 'lakki marwat'\n",
      " 'lasbela' 'lower dir' 'malakand' 'mansehra' 'mardan' 'mohmand agency'\n",
      " 'mosal kor, mohmand agency' 'multan' 'muzaffarabad' 'north waziristan'\n",
      " 'nowshehra' 'orakzai agency' 'peshawar' 'pishin' 'poonch' 'quetta'\n",
      " 'rawalpindi' 'sargodha' 'sehwan town' 'shabqadar-charsadda' 'shangla'\n",
      " 'shikarpur' 'sialkot' 'south waziristan' 'sudhanoti' 'sukkur' 'swabi'\n",
      " 'swat' 'taftan' 'tangi, charsadda district' 'tank' 'taunsa'\n",
      " 'tirah valley' 'totalai' 'upper dir' 'wagah' 'zhob']\n",
      "Close matches found: ['d.i khan', 'd. i khan'] with min ratio=90\n",
      "Replacing close matches with 'd.i khan'..\n",
      "Replacement complete\n",
      "['attock' 'bajaur agency' 'bannu' 'bhakkar' 'buner' 'chakwal' 'chaman'\n",
      " 'charsadda' 'd.g khan' 'd.i khan' 'dara adam khel' 'fateh jang'\n",
      " 'ghallanai, mohmand agency' 'gujrat' 'hangu' 'haripur' 'hayatabad'\n",
      " 'islamabad' 'jacobabad' 'karachi' 'karak' 'khanewal' 'khuzdar'\n",
      " 'khyber agency' 'kohat' 'kurram agency' 'lahore' 'lakki marwat' 'lasbela'\n",
      " 'lower dir' 'malakand' 'mansehra' 'mardan' 'mohmand agency'\n",
      " 'mosal kor, mohmand agency' 'multan' 'muzaffarabad' 'north waziristan'\n",
      " 'nowshehra' 'orakzai agency' 'peshawar' 'pishin' 'poonch' 'quetta'\n",
      " 'rawalpindi' 'sargodha' 'sehwan town' 'shabqadar-charsadda' 'shangla'\n",
      " 'shikarpur' 'sialkot' 'south waziristan' 'sudhanoti' 'sukkur' 'swabi'\n",
      " 'swat' 'taftan' 'tangi, charsadda district' 'tank' 'taunsa'\n",
      " 'tirah valley' 'totalai' 'upper dir' 'wagah' 'zhob']\n",
      "['attock' 'bajaur agency' 'bannu' 'bhakkar' 'buner' 'chakwal' 'chaman'\n",
      " 'charsadda' 'd.g khan' 'd.i khan' 'dara adam khel' 'fateh jang'\n",
      " 'ghallanai, mohmand agency' 'gujrat' 'hangu' 'haripur' 'hayatabad'\n",
      " 'islamabad' 'jacobabad' 'karachi' 'karak' 'khanewal' 'khuzdar'\n",
      " 'khyber agency' 'kohat' 'kurram agency' 'lahore' 'lakki marwat' 'lasbela'\n",
      " 'lower dir' 'malakand' 'mansehra' 'mardan' 'mohmand agency'\n",
      " 'mosal kor, mohmand agency' 'multan' 'muzaffarabad' 'north waziristan'\n",
      " 'nowshehra' 'orakzai agency' 'peshawar' 'pishin' 'poonch' 'quetta'\n",
      " 'rawalpindi' 'sargodha' 'sehwan town' 'shabqadar-charsadda' 'shangla'\n",
      " 'shikarpur' 'sialkot' 'south waziristan' 'sudhanoti' 'sukkur' 'swabi'\n",
      " 'swat' 'taftan' 'tangi, charsadda district' 'tank' 'taunsa'\n",
      " 'tirah valley' 'totalai' 'upper dir' 'wagah' 'zhob']\n"
     ]
    }
   ],
   "source": [
    "lowercase_and_strip(pakistan_data,\"City\")\n",
    "replace_matches_in_column(pakistan_data, 'City', \"kurram agency\",90)\n",
    "replace_matches_in_column(pakistan_data, 'City',\"d.i khan\",90)\n",
    "get_column(pakistan_data,\"City\")"
   ]
  },
  {
   "attachments": {},
   "cell_type": "markdown",
   "metadata": {},
   "source": [
    "unique city names have been corrected"
   ]
  },
  {
   "attachments": {},
   "cell_type": "markdown",
   "metadata": {},
   "source": [
    "### Task 3"
   ]
  },
  {
   "cell_type": "code",
   "execution_count": 623,
   "metadata": {},
   "outputs": [
    {
     "name": "stdout",
     "output_type": "stream",
     "text": [
      "        S#                 Date Islamic Date Blast Day Type Holiday Type Time  \\\n",
      "443  444.0  Tuesday-May 26-2015          NaN    Working Day          NaN  NaN   \n",
      "444  445.0  Tuesday-May 26-2015          NaN    Working Day          NaN  NaN   \n",
      "445    NaN                  NaN          NaN            NaN          NaN  NaN   \n",
      "446    NaN                  NaN          NaN            NaN          NaN  NaN   \n",
      "447    NaN                  NaN          NaN            NaN          NaN  NaN   \n",
      "448    NaN                  NaN          NaN            NaN          NaN  NaN   \n",
      "449    NaN                  NaN          NaN            NaN          NaN  NaN   \n",
      "450    NaN                  NaN          NaN            NaN          NaN  NaN   \n",
      "451    NaN                  NaN          NaN            NaN          NaN  NaN   \n",
      "452    NaN                  NaN          NaN            NaN          NaN  NaN   \n",
      "453    NaN                  NaN          NaN            NaN          NaN  NaN   \n",
      "454    NaN                  NaN          NaN            NaN          NaN  NaN   \n",
      "455    NaN                  NaN          NaN            NaN          NaN  NaN   \n",
      "456    NaN                  NaN          NaN            NaN          NaN  NaN   \n",
      "457    NaN                  NaN          NaN            NaN          NaN  NaN   \n",
      "458    NaN                  NaN          NaN            NaN          NaN  NaN   \n",
      "459    NaN                  NaN          NaN            NaN          NaN  NaN   \n",
      "460    NaN                  NaN          NaN            NaN          NaN  NaN   \n",
      "461    NaN                  NaN          NaN            NaN          NaN  NaN   \n",
      "462    NaN                  NaN          NaN            NaN          NaN  NaN   \n",
      "463    NaN                  NaN          NaN            NaN          NaN  NaN   \n",
      "464    NaN                  NaN          NaN            NaN          NaN  NaN   \n",
      "465    NaN                  NaN          NaN            NaN          NaN  NaN   \n",
      "466    NaN                  NaN          NaN            NaN          NaN  NaN   \n",
      "467    NaN                  NaN          NaN            NaN          NaN  NaN   \n",
      "468    NaN                  NaN          NaN            NaN          NaN  NaN   \n",
      "469    NaN                  NaN          NaN            NaN          NaN  NaN   \n",
      "470    NaN                  NaN          NaN            NaN          NaN  NaN   \n",
      "471    NaN                  NaN          NaN            NaN          NaN  NaN   \n",
      "472    NaN                  NaN          NaN            NaN          NaN  NaN   \n",
      "473    NaN                  NaN          NaN            NaN          NaN  NaN   \n",
      "474    NaN                  NaN          NaN            NaN          NaN  NaN   \n",
      "475    NaN                  NaN          NaN            NaN          NaN  NaN   \n",
      "476    NaN                  NaN          NaN            NaN          NaN  NaN   \n",
      "477    NaN                  NaN          NaN            NaN          NaN  NaN   \n",
      "478    NaN                  NaN          NaN            NaN          NaN  NaN   \n",
      "479    NaN                  NaN          NaN            NaN          NaN  NaN   \n",
      "480    NaN                  NaN          NaN            NaN          NaN  NaN   \n",
      "481    NaN                  NaN          NaN            NaN          NaN  NaN   \n",
      "482    NaN                  NaN          NaN            NaN          NaN  NaN   \n",
      "\n",
      "        City  Latitude  Longitude Province  ... Targeted Sect if any  \\\n",
      "443  Karachi   24.9918    66.9911    Sindh  ...                  NaN   \n",
      "444  Karachi   24.9918    66.9911    Sindh  ...                  NaN   \n",
      "445      NaN       NaN        NaN      NaN  ...                  NaN   \n",
      "446      NaN       NaN        NaN      NaN  ...                  NaN   \n",
      "447      NaN       NaN        NaN      NaN  ...                  NaN   \n",
      "448      NaN       NaN        NaN      NaN  ...                  NaN   \n",
      "449      NaN       NaN        NaN      NaN  ...                  NaN   \n",
      "450      NaN       NaN        NaN      NaN  ...                  NaN   \n",
      "451      NaN       NaN        NaN      NaN  ...                  NaN   \n",
      "452      NaN       NaN        NaN      NaN  ...                  NaN   \n",
      "453      NaN       NaN        NaN      NaN  ...                  NaN   \n",
      "454      NaN       NaN        NaN      NaN  ...                  NaN   \n",
      "455      NaN       NaN        NaN      NaN  ...                  NaN   \n",
      "456      NaN       NaN        NaN      NaN  ...                  NaN   \n",
      "457      NaN       NaN        NaN      NaN  ...                  NaN   \n",
      "458      NaN       NaN        NaN      NaN  ...                  NaN   \n",
      "459      NaN       NaN        NaN      NaN  ...                  NaN   \n",
      "460      NaN       NaN        NaN      NaN  ...                  NaN   \n",
      "461      NaN       NaN        NaN      NaN  ...                  NaN   \n",
      "462      NaN       NaN        NaN      NaN  ...                  NaN   \n",
      "463      NaN       NaN        NaN      NaN  ...                  NaN   \n",
      "464      NaN       NaN        NaN      NaN  ...                  NaN   \n",
      "465      NaN       NaN        NaN      NaN  ...                  NaN   \n",
      "466      NaN       NaN        NaN      NaN  ...                  NaN   \n",
      "467      NaN       NaN        NaN      NaN  ...                  NaN   \n",
      "468      NaN       NaN        NaN      NaN  ...                  NaN   \n",
      "469      NaN       NaN        NaN      NaN  ...                  NaN   \n",
      "470      NaN       NaN        NaN      NaN  ...                  NaN   \n",
      "471      NaN       NaN        NaN      NaN  ...                  NaN   \n",
      "472      NaN       NaN        NaN      NaN  ...                  NaN   \n",
      "473      NaN       NaN        NaN      NaN  ...                  NaN   \n",
      "474      NaN       NaN        NaN      NaN  ...                  NaN   \n",
      "475      NaN       NaN        NaN      NaN  ...                  NaN   \n",
      "476      NaN       NaN        NaN      NaN  ...                  NaN   \n",
      "477      NaN       NaN        NaN      NaN  ...                  NaN   \n",
      "478      NaN       NaN        NaN      NaN  ...                  NaN   \n",
      "479      NaN       NaN        NaN      NaN  ...                  NaN   \n",
      "480      NaN       NaN        NaN      NaN  ...                  NaN   \n",
      "481      NaN       NaN        NaN      NaN  ...                  NaN   \n",
      "482      NaN       NaN        NaN      NaN  ...                  NaN   \n",
      "\n",
      "    Killed Min Killed Max Injured Min Injured Max No. of Suicide Blasts  \\\n",
      "443        1.0        2.0         NaN         NaN                   NaN   \n",
      "444        NaN        5.0         NaN         NaN                   NaN   \n",
      "445        NaN        NaN         NaN         NaN                   NaN   \n",
      "446        NaN        NaN         NaN         NaN                   NaN   \n",
      "447        NaN        NaN         NaN         NaN                   NaN   \n",
      "448        NaN        NaN         NaN         NaN                   NaN   \n",
      "449        NaN        NaN         NaN         NaN                   NaN   \n",
      "450        NaN        NaN         NaN         NaN                   NaN   \n",
      "451        NaN        NaN         NaN         NaN                   NaN   \n",
      "452        NaN        NaN         NaN         NaN                   NaN   \n",
      "453        NaN        NaN         NaN         NaN                   NaN   \n",
      "454        NaN        NaN         NaN         NaN                   NaN   \n",
      "455        NaN        NaN         NaN         NaN                   NaN   \n",
      "456        NaN        NaN         NaN         NaN                   NaN   \n",
      "457        NaN        NaN         NaN         NaN                   NaN   \n",
      "458        NaN        NaN         NaN         NaN                   NaN   \n",
      "459        NaN        NaN         NaN         NaN                   NaN   \n",
      "460        NaN        NaN         NaN         NaN                   NaN   \n",
      "461        NaN        NaN         NaN         NaN                   NaN   \n",
      "462        NaN        NaN         NaN         NaN                   NaN   \n",
      "463        NaN        NaN         NaN         NaN                   NaN   \n",
      "464        NaN        NaN         NaN         NaN                   NaN   \n",
      "465        NaN        NaN         NaN         NaN                   NaN   \n",
      "466        NaN        NaN         NaN         NaN                   NaN   \n",
      "467        NaN        NaN         NaN         NaN                   NaN   \n",
      "468        NaN        NaN         NaN         NaN                   NaN   \n",
      "469        NaN        NaN         NaN         NaN                   NaN   \n",
      "470        NaN        NaN         NaN         NaN                   NaN   \n",
      "471        NaN        NaN         NaN         NaN                   NaN   \n",
      "472        NaN        NaN         NaN         NaN                   NaN   \n",
      "473        NaN        NaN         NaN         NaN                   NaN   \n",
      "474        NaN        NaN         NaN         NaN                   NaN   \n",
      "475        NaN        NaN         NaN         NaN                   NaN   \n",
      "476        NaN        NaN         NaN         NaN                   NaN   \n",
      "477        NaN        NaN         NaN         NaN                   NaN   \n",
      "478        NaN        NaN         NaN         NaN                   NaN   \n",
      "479        NaN        NaN         NaN         NaN                   NaN   \n",
      "480        NaN        NaN         NaN         NaN                   NaN   \n",
      "481        NaN        NaN         NaN         NaN                   NaN   \n",
      "482        NaN        NaN         NaN         NaN                   NaN   \n",
      "\n",
      "    Explosive Weight (max)  Hospital Names  Temperature(C)  Temperature(F)  \n",
      "443                    NaN             NaN           33.05           91.49  \n",
      "444                    NaN             NaN           33.05           91.49  \n",
      "445                    NaN             NaN             NaN             NaN  \n",
      "446                    NaN             NaN             NaN             NaN  \n",
      "447                    NaN             NaN             NaN             NaN  \n",
      "448                    NaN             NaN             NaN             NaN  \n",
      "449                    NaN             NaN             NaN             NaN  \n",
      "450                    NaN             NaN             NaN             NaN  \n",
      "451                    NaN             NaN             NaN             NaN  \n",
      "452                    NaN             NaN             NaN             NaN  \n",
      "453                    NaN             NaN             NaN             NaN  \n",
      "454                    NaN             NaN             NaN             NaN  \n",
      "455                    NaN             NaN             NaN             NaN  \n",
      "456                    NaN             NaN             NaN             NaN  \n",
      "457                    NaN             NaN             NaN             NaN  \n",
      "458                    NaN             NaN             NaN             NaN  \n",
      "459                    NaN             NaN             NaN             NaN  \n",
      "460                    NaN             NaN             NaN             NaN  \n",
      "461                    NaN             NaN             NaN             NaN  \n",
      "462                    NaN             NaN             NaN             NaN  \n",
      "463                    NaN             NaN             NaN             NaN  \n",
      "464                    NaN             NaN             NaN             NaN  \n",
      "465                    NaN             NaN             NaN             NaN  \n",
      "466                    NaN             NaN             NaN             NaN  \n",
      "467                    NaN             NaN             NaN             NaN  \n",
      "468                    NaN             NaN             NaN             NaN  \n",
      "469                    NaN             NaN             NaN             NaN  \n",
      "470                    NaN             NaN             NaN             NaN  \n",
      "471                    NaN             NaN             NaN             NaN  \n",
      "472                    NaN             NaN             NaN             NaN  \n",
      "473                    NaN             NaN             NaN             NaN  \n",
      "474                    NaN             NaN             NaN             NaN  \n",
      "475                    NaN             NaN             NaN             NaN  \n",
      "476                    NaN             NaN             NaN             NaN  \n",
      "477                    NaN             NaN             NaN             NaN  \n",
      "478                    NaN             NaN             NaN             NaN  \n",
      "479                    NaN             NaN             NaN             NaN  \n",
      "480                    NaN             NaN             NaN             NaN  \n",
      "481                    NaN             NaN             NaN             NaN  \n",
      "482                    NaN             NaN             NaN             NaN  \n",
      "\n",
      "[40 rows x 26 columns]\n"
     ]
    }
   ],
   "source": [
    "pakistanTask_data=get_datafile_csv('PakistanTask.csv')\n",
    "print(pakistanTask_data.tail(40))"
   ]
  },
  {
   "cell_type": "code",
   "execution_count": 624,
   "metadata": {},
   "outputs": [
    {
     "name": "stdout",
     "output_type": "stream",
     "text": [
      "['Attock ' 'Bajaur Agency' 'Bannu' 'Bhakkar ' 'Buner' 'Chakwal ' 'Chaman'\n",
      " 'Charsadda' 'Charsadda ' 'D. I Khan' 'D.G Khan' 'D.G Khan ' 'D.I Khan'\n",
      " 'D.I Khan ' 'Dara Adam Khel' 'Dara Adam khel' 'Fateh Jang' 'Gujrat'\n",
      " 'Hangu' 'Haripur' 'Islamabad' 'Islamabad ' 'KURRAM AGENCY' 'Karachi'\n",
      " 'Karachi ' 'Karak' 'Khanewal' 'Khyber Agency' 'Khyber Agency ' 'Kohat'\n",
      " 'Kohat ' 'Kuram Agency ' 'Lahore' 'Lahore ' 'Lakki Marwat' 'Lakki marwat'\n",
      " 'Lasbela' 'Lower Dir' 'Malakand ' 'Mansehra' 'Mardan' 'Mohmand Agency'\n",
      " 'Mohmand Agency ' 'Mohmand agency' 'Multan' 'Muzaffarabad'\n",
      " 'North Waziristan' 'North waziristan' 'Nowshehra' 'Orakzai Agency'\n",
      " 'Peshawar' 'Peshawar ' 'Pishin' 'Poonch' 'Quetta' 'Quetta ' 'Rawalpindi'\n",
      " 'Sargodha' 'Shangla ' 'Shikarpur' 'Sialkot' 'South Waziristan'\n",
      " 'South waziristan' 'Sudhanoti' 'Sukkur' 'Swabi ' 'Swat' 'Swat ' 'Taftan'\n",
      " 'Tank' 'Tank ' 'Tirah Valley' 'Totalai' 'Upper Dir' 'Wagah' 'Zhob'\n",
      " 'bannu' 'karachi' 'karachi ' 'lakki marwat' 'peshawar' 'swat']\n"
     ]
    }
   ],
   "source": [
    "pakistanTask_data=pakistanTask_data[0:445]\n",
    "get_column(pakistanTask_data,\"City\")"
   ]
  },
  {
   "attachments": {},
   "cell_type": "markdown",
   "metadata": {},
   "source": [
    "Tail portion of df has 38 rows of null values. Rows to be removed using indexing"
   ]
  },
  {
   "cell_type": "code",
   "execution_count": 625,
   "metadata": {},
   "outputs": [
    {
     "name": "stdout",
     "output_type": "stream",
     "text": [
      "Transformed to lowercase and stripped\n",
      "['attock' 'bajaur agency' 'bannu' 'bhakkar' 'buner' 'chakwal' 'chaman'\n",
      " 'charsadda' 'd. i khan' 'd.g khan' 'd.i khan' 'dara adam khel'\n",
      " 'fateh jang' 'gujrat' 'hangu' 'haripur' 'islamabad' 'karachi' 'karak'\n",
      " 'khanewal' 'khyber agency' 'kohat' 'kuram agency' 'kurram agency'\n",
      " 'lahore' 'lakki marwat' 'lasbela' 'lower dir' 'malakand' 'mansehra'\n",
      " 'mardan' 'mohmand agency' 'multan' 'muzaffarabad' 'north waziristan'\n",
      " 'nowshehra' 'orakzai agency' 'peshawar' 'pishin' 'poonch' 'quetta'\n",
      " 'rawalpindi' 'sargodha' 'shangla' 'shikarpur' 'sialkot'\n",
      " 'south waziristan' 'sudhanoti' 'sukkur' 'swabi' 'swat' 'taftan' 'tank'\n",
      " 'tirah valley' 'totalai' 'upper dir' 'wagah' 'zhob']\n",
      "\n",
      "\n",
      "Close matches found: ['kurram agency', 'kuram agency'] with min ratio=90\n",
      "Replacing close matches with 'kurram agency'..\n",
      "Replacement complete\n",
      "['attock' 'bajaur agency' 'bannu' 'bhakkar' 'buner' 'chakwal' 'chaman'\n",
      " 'charsadda' 'd. i khan' 'd.g khan' 'd.i khan' 'dara adam khel'\n",
      " 'fateh jang' 'gujrat' 'hangu' 'haripur' 'islamabad' 'karachi' 'karak'\n",
      " 'khanewal' 'khyber agency' 'kohat' 'kurram agency' 'lahore'\n",
      " 'lakki marwat' 'lasbela' 'lower dir' 'malakand' 'mansehra' 'mardan'\n",
      " 'mohmand agency' 'multan' 'muzaffarabad' 'north waziristan' 'nowshehra'\n",
      " 'orakzai agency' 'peshawar' 'pishin' 'poonch' 'quetta' 'rawalpindi'\n",
      " 'sargodha' 'shangla' 'shikarpur' 'sialkot' 'south waziristan' 'sudhanoti'\n",
      " 'sukkur' 'swabi' 'swat' 'taftan' 'tank' 'tirah valley' 'totalai'\n",
      " 'upper dir' 'wagah' 'zhob']\n"
     ]
    }
   ],
   "source": [
    "lowercase_and_strip(pakistanTask_data,\"City\")\n",
    "replace_matches_in_column(pakistanTask_data, 'City', \"kurram agency\",90)"
   ]
  },
  {
   "cell_type": "code",
   "execution_count": 626,
   "metadata": {},
   "outputs": [
    {
     "name": "stdout",
     "output_type": "stream",
     "text": [
      "Close matches found: ['d.i khan', 'd. i khan'] with min ratio=90\n",
      "Replacing close matches with 'd.i khan'..\n",
      "Replacement complete\n",
      "['attock' 'bajaur agency' 'bannu' 'bhakkar' 'buner' 'chakwal' 'chaman'\n",
      " 'charsadda' 'd.g khan' 'd.i khan' 'dara adam khel' 'fateh jang' 'gujrat'\n",
      " 'hangu' 'haripur' 'islamabad' 'karachi' 'karak' 'khanewal'\n",
      " 'khyber agency' 'kohat' 'kurram agency' 'lahore' 'lakki marwat' 'lasbela'\n",
      " 'lower dir' 'malakand' 'mansehra' 'mardan' 'mohmand agency' 'multan'\n",
      " 'muzaffarabad' 'north waziristan' 'nowshehra' 'orakzai agency' 'peshawar'\n",
      " 'pishin' 'poonch' 'quetta' 'rawalpindi' 'sargodha' 'shangla' 'shikarpur'\n",
      " 'sialkot' 'south waziristan' 'sudhanoti' 'sukkur' 'swabi' 'swat' 'taftan'\n",
      " 'tank' 'tirah valley' 'totalai' 'upper dir' 'wagah' 'zhob']\n"
     ]
    }
   ],
   "source": [
    "replace_matches_in_column(pakistanTask_data,'City', \"d.i khan\",90)\n"
   ]
  },
  {
   "attachments": {},
   "cell_type": "markdown",
   "metadata": {},
   "source": [
    "Unique city names corrected"
   ]
  },
  {
   "cell_type": "code",
   "execution_count": 627,
   "metadata": {},
   "outputs": [
    {
     "name": "stdout",
     "output_type": "stream",
     "text": [
      "['AJK' 'Balochistan' 'Baluchistan' 'Capital' 'FATA' 'Fata' 'KPK' 'Punjab'\n",
      " 'Sindh']\n"
     ]
    }
   ],
   "source": [
    "get_column(pakistanTask_data,\"Province\")"
   ]
  },
  {
   "cell_type": "code",
   "execution_count": 628,
   "metadata": {},
   "outputs": [
    {
     "name": "stdout",
     "output_type": "stream",
     "text": [
      "Transformed to lowercase and stripped\n",
      "['ajk' 'balochistan' 'baluchistan' 'capital' 'fata' 'kpk' 'punjab' 'sindh']\n",
      "\n",
      "\n",
      "Close matches found: ['baluchistan', 'balochistan'] with min ratio=90\n",
      "Replacing close matches with 'baluchistan'..\n",
      "Replacement complete\n",
      "['ajk' 'baluchistan' 'capital' 'fata' 'kpk' 'punjab' 'sindh']\n"
     ]
    }
   ],
   "source": [
    "lowercase_and_strip(pakistanTask_data,\"Province\")\n",
    "replace_matches_in_column(pakistanTask_data,'Province',\"baluchistan\",90)"
   ]
  },
  {
   "attachments": {},
   "cell_type": "markdown",
   "metadata": {},
   "source": [
    "Unique province names corrected"
   ]
  },
  {
   "attachments": {},
   "cell_type": "markdown",
   "metadata": {},
   "source": [
    "### Task 4"
   ]
  },
  {
   "cell_type": "code",
   "execution_count": 629,
   "metadata": {},
   "outputs": [
    {
     "name": "stdout",
     "output_type": "stream",
     "text": [
      "0    Sunday-November 19-1995\n",
      "1     Monday-November 6-2000\n",
      "2       Wednesday-May 8-2002\n",
      "3        Friday-June 14-2002\n",
      "4         Friday-July 4-2003\n",
      "Name: Date, dtype: object\n"
     ]
    }
   ],
   "source": [
    "print(pakistanTask_data['Date'].head())\n"
   ]
  },
  {
   "attachments": {},
   "cell_type": "markdown",
   "metadata": {},
   "source": [
    "Dates are stored as objects and are not able to be read by program. "
   ]
  },
  {
   "cell_type": "code",
   "execution_count": 630,
   "metadata": {},
   "outputs": [
    {
     "name": "stdout",
     "output_type": "stream",
     "text": [
      "0   1995-11-19\n",
      "1   2000-11-06\n",
      "2   2002-05-08\n",
      "3   2002-06-14\n",
      "4   2003-07-04\n",
      "Name: date_parsed, dtype: datetime64[ns]\n"
     ]
    }
   ],
   "source": [
    "get_date_parsed(pakistanTask_data,'%A-%B %d-%Y')\n",
    "print(pakistanTask_data['date_parsed'].head())"
   ]
  },
  {
   "attachments": {},
   "cell_type": "markdown",
   "metadata": {},
   "source": [
    "Dates parsed in format of the df. dtype is stored in datetime64 format."
   ]
  }
 ],
 "metadata": {
  "kernelspec": {
   "display_name": "base",
   "language": "python",
   "name": "python3"
  },
  "language_info": {
   "codemirror_mode": {
    "name": "ipython",
    "version": 3
   },
   "file_extension": ".py",
   "mimetype": "text/x-python",
   "name": "python",
   "nbconvert_exporter": "python",
   "pygments_lexer": "ipython3",
   "version": "3.9.13"
  },
  "orig_nbformat": 4,
  "vscode": {
   "interpreter": {
    "hash": "7355de7d846c4176db39cc28a76b01af7e5f85bab48b260a8c7981d1401980e2"
   }
  }
 },
 "nbformat": 4,
 "nbformat_minor": 2
}
